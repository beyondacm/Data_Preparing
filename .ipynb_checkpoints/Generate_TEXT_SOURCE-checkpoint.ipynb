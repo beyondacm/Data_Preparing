{
 "cells": [
  {
   "cell_type": "code",
   "execution_count": 1,
   "metadata": {
    "collapsed": true
   },
   "outputs": [],
   "source": [
    "import pandas as pd"
   ]
  },
  {
   "cell_type": "code",
   "execution_count": 2,
   "metadata": {
    "collapsed": true
   },
   "outputs": [],
   "source": [
    "# Total_Train = pd.read_csv('./Total_Train_AfterProcessing.csv')\n",
    "# Total_Test = pd.read_csv('./Total_Test_AfterProcessing.csv')\n",
    "\n",
    "Total_Train = pd.read_csv('../Feature_Extraction/TOTAL_FEATURES/Final_Training_Set.csv')\n",
    "Total_Test = pd.read_csv('../SVM_RANK/TEST/Final_Test_Set.csv')"
   ]
  },
  {
   "cell_type": "code",
   "execution_count": 3,
   "metadata": {
    "collapsed": false
   },
   "outputs": [],
   "source": [
    "# Total_Train\n",
    "Total_Train = Total_Train.fillna(' ')\n",
    "Total_Test = Total_Test.fillna(' ')"
   ]
  },
  {
   "cell_type": "code",
   "execution_count": 4,
   "metadata": {
    "collapsed": false
   },
   "outputs": [],
   "source": [
    "TEXT_SOURCE01 = Total_Train['question_content'] + \\\n",
    "                Total_Train['question_tags'] + \\\n",
    "                Total_Train['answer_content'] + \\\n",
    "                Total_Train['user_interest'] + \\\n",
    "                Total_Train['user_specialty']"
   ]
  },
  {
   "cell_type": "code",
   "execution_count": 5,
   "metadata": {
    "collapsed": false
   },
   "outputs": [],
   "source": [
    "# TEXT_SOURCE01"
   ]
  },
  {
   "cell_type": "code",
   "execution_count": 6,
   "metadata": {
    "collapsed": false
   },
   "outputs": [],
   "source": [
    "TEXT_SOURCE02 = Total_Test['question_content'] + \\\n",
    "                Total_Test['question_tags'] + \\\n",
    "                Total_Test['answer_content'] + \\\n",
    "                Total_Test['user_interest'] + \\\n",
    "                Total_Test['user_specialty']"
   ]
  },
  {
   "cell_type": "code",
   "execution_count": 8,
   "metadata": {
    "collapsed": false
   },
   "outputs": [],
   "source": [
    "# TEXT_SOURCE02"
   ]
  },
  {
   "cell_type": "code",
   "execution_count": 9,
   "metadata": {
    "collapsed": false
   },
   "outputs": [],
   "source": [
    "# TEXT_SOURCE01.append(TEXT_SOURCE02)\n",
    "TEXT_SOURCE = TEXT_SOURCE01.append(TEXT_SOURCE02)"
   ]
  },
  {
   "cell_type": "code",
   "execution_count": 10,
   "metadata": {
    "collapsed": false
   },
   "outputs": [],
   "source": [
    "# TEXT_SOURCE\n",
    "# len ( TEXT_SOURCE )   49415"
   ]
  },
  {
   "cell_type": "code",
   "execution_count": 11,
   "metadata": {
    "collapsed": false
   },
   "outputs": [],
   "source": [
    "# print TEXT_SOURCE[7].all()"
   ]
  },
  {
   "cell_type": "code",
   "execution_count": 12,
   "metadata": {
    "collapsed": false
   },
   "outputs": [],
   "source": [
    "TEXT_SOURCE.to_csv('./Topic_Model/TEXT_SOURCE.csv', encoding='utf-8', index = False, header=False)"
   ]
  },
  {
   "cell_type": "code",
   "execution_count": 13,
   "metadata": {
    "collapsed": true
   },
   "outputs": [],
   "source": [
    "TS = pd.read_csv('./Topic_Model/TEXT_SOURCE.csv', header=None)"
   ]
  },
  {
   "cell_type": "code",
   "execution_count": 15,
   "metadata": {
    "collapsed": false
   },
   "outputs": [],
   "source": [
    "# TS # 49415 rows × 5 columns"
   ]
  },
  {
   "cell_type": "code",
   "execution_count": null,
   "metadata": {
    "collapsed": true
   },
   "outputs": [],
   "source": []
  }
 ],
 "metadata": {
  "kernelspec": {
   "display_name": "Python 2",
   "language": "python",
   "name": "python2"
  },
  "language_info": {
   "codemirror_mode": {
    "name": "ipython",
    "version": 2
   },
   "file_extension": ".py",
   "mimetype": "text/x-python",
   "name": "python",
   "nbconvert_exporter": "python",
   "pygments_lexer": "ipython2",
   "version": "2.7.10"
  }
 },
 "nbformat": 4,
 "nbformat_minor": 0
}
