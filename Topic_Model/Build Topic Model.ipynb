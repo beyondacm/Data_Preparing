{
 "cells": [
  {
   "cell_type": "code",
   "execution_count": 1,
   "metadata": {
    "collapsed": true
   },
   "outputs": [],
   "source": [
    "import graphlab as gl\n",
    "import os"
   ]
  },
  {
   "cell_type": "code",
   "execution_count": 4,
   "metadata": {
    "collapsed": false
   },
   "outputs": [],
   "source": [
    "# if os.path.exists('./TEXT_SOURCE.csv'):\n",
    "#     docs = gl.SFrame('./TEXT_SOURCE.csv')"
   ]
  },
  {
   "cell_type": "code",
   "execution_count": 5,
   "metadata": {
    "collapsed": false
   },
   "outputs": [
    {
     "data": {
      "text/html": [
       "<pre>Finished parsing file /Users/gaozhipeng/ML/Data_Preparing/Topic_Model/TEXT_SOURCE.csv</pre>"
      ],
      "text/plain": [
       "Finished parsing file /Users/gaozhipeng/ML/Data_Preparing/Topic_Model/TEXT_SOURCE.csv"
      ]
     },
     "metadata": {},
     "output_type": "display_data"
    },
    {
     "data": {
      "text/html": [
       "<pre>Parsing completed. Parsed 100 lines in 0.377099 secs.</pre>"
      ],
      "text/plain": [
       "Parsing completed. Parsed 100 lines in 0.377099 secs."
      ]
     },
     "metadata": {},
     "output_type": "display_data"
    },
    {
     "data": {
      "text/html": [
       "<pre>Finished parsing file /Users/gaozhipeng/ML/Data_Preparing/Topic_Model/TEXT_SOURCE.csv</pre>"
      ],
      "text/plain": [
       "Finished parsing file /Users/gaozhipeng/ML/Data_Preparing/Topic_Model/TEXT_SOURCE.csv"
      ]
     },
     "metadata": {},
     "output_type": "display_data"
    },
    {
     "data": {
      "text/html": [
       "<pre>Parsing completed. Parsed 49415 lines in 0.499889 secs.</pre>"
      ],
      "text/plain": [
       "Parsing completed. Parsed 49415 lines in 0.499889 secs."
      ]
     },
     "metadata": {},
     "output_type": "display_data"
    },
    {
     "name": "stdout",
     "output_type": "stream",
     "text": [
      "------------------------------------------------------\n",
      "Inferred types from first line of file as \n",
      "column_type_hints=[str]\n",
      "If parsing fails due to incorrect types, you can correct\n",
      "the inferred type list above and pass it to read_csv in\n",
      "the column_type_hints argument\n",
      "------------------------------------------------------\n"
     ]
    }
   ],
   "source": [
    "docs = docs = gl.SFrame.read_csv('./TEXT_SOURCE.csv', header=False)"
   ]
  },
  {
   "cell_type": "code",
   "execution_count": 6,
   "metadata": {
    "collapsed": false
   },
   "outputs": [
    {
     "data": {
      "text/html": [
       "<div style=\"max-height:1000px;max-width:1500px;overflow:auto;\"><table frame=\"box\" rules=\"cols\">\n",
       "    <tr>\n",
       "        <th style=\"padding-left: 1em; padding-right: 1em; text-align: center\">X1</th>\n",
       "    </tr>\n",
       "    <tr>\n",
       "        <td style=\"padding-left: 1em; padding-right: 1em; text-align: center; vertical-align: top\">use salt water nasal<br>spray help prevent ...</td>\n",
       "    </tr>\n",
       "    <tr>\n",
       "        <td style=\"padding-left: 1em; padding-right: 1em; text-align: center; vertical-align: top\">use salt water nasal<br>spray help prevent ...</td>\n",
       "    </tr>\n",
       "    <tr>\n",
       "        <td style=\"padding-left: 1em; padding-right: 1em; text-align: center; vertical-align: top\">use salt water nasal<br>spray help prevent ...</td>\n",
       "    </tr>\n",
       "    <tr>\n",
       "        <td style=\"padding-left: 1em; padding-right: 1em; text-align: center; vertical-align: top\">wife recent 3 miscarriag<br>2 chemic pregnanc  one 7 ...</td>\n",
       "    </tr>\n",
       "    <tr>\n",
       "        <td style=\"padding-left: 1em; padding-right: 1em; text-align: center; vertical-align: top\">wife recent 3 miscarriag<br>2 chemic pregnanc  one 7 ...</td>\n",
       "    </tr>\n",
       "    <tr>\n",
       "        <td style=\"padding-left: 1em; padding-right: 1em; text-align: center; vertical-align: top\">wife recent 3 miscarriag<br>2 chemic pregnanc  one 7 ...</td>\n",
       "    </tr>\n",
       "    <tr>\n",
       "        <td style=\"padding-left: 1em; padding-right: 1em; text-align: center; vertical-align: top\">7 yrs old enlarg adenoid<br>ent given nasonex spray ...</td>\n",
       "    </tr>\n",
       "    <tr>\n",
       "        <td style=\"padding-left: 1em; padding-right: 1em; text-align: center; vertical-align: top\">7 yrs old enlarg adenoid<br>ent given nasonex spray ...</td>\n",
       "    </tr>\n",
       "    <tr>\n",
       "        <td style=\"padding-left: 1em; padding-right: 1em; text-align: center; vertical-align: top\">7 yrs old enlarg adenoid<br>ent given nasonex spray ...</td>\n",
       "    </tr>\n",
       "    <tr>\n",
       "        <td style=\"padding-left: 1em; padding-right: 1em; text-align: center; vertical-align: top\">get girl pregnant low<br>sexual bind ...</td>\n",
       "    </tr>\n",
       "</table>\n",
       "[49415 rows x 1 columns]<br/>Note: Only the head of the SFrame is printed.<br/>You can use print_rows(num_rows=m, num_columns=n) to print more rows and columns.\n",
       "</div>"
      ],
      "text/plain": [
       "Columns:\n",
       "\tX1\tstr\n",
       "\n",
       "Rows: 49415\n",
       "\n",
       "Data:\n",
       "+-------------------------------+\n",
       "|               X1              |\n",
       "+-------------------------------+\n",
       "| use salt water nasal spray... |\n",
       "| use salt water nasal spray... |\n",
       "| use salt water nasal spray... |\n",
       "| wife recent 3 miscarriag  ... |\n",
       "| wife recent 3 miscarriag  ... |\n",
       "| wife recent 3 miscarriag  ... |\n",
       "| 7 yrs old enlarg adenoid  ... |\n",
       "| 7 yrs old enlarg adenoid  ... |\n",
       "| 7 yrs old enlarg adenoid  ... |\n",
       "| get girl pregnant low sexu... |\n",
       "+-------------------------------+\n",
       "[49415 rows x 1 columns]\n",
       "Note: Only the head of the SFrame is printed.\n",
       "You can use print_rows(num_rows=m, num_columns=n) to print more rows and columns."
      ]
     },
     "execution_count": 6,
     "metadata": {},
     "output_type": "execute_result"
    }
   ],
   "source": [
    "docs"
   ]
  },
  {
   "cell_type": "code",
   "execution_count": 7,
   "metadata": {
    "collapsed": true
   },
   "outputs": [],
   "source": [
    "# Remove stopwords and convert to bag of words\n",
    "docs = gl.text_analytics.count_words(docs['X1'])\n",
    "docs = docs.dict_trim_by_keys(gl.text_analytics.stopwords(), exclude=True)"
   ]
  },
  {
   "cell_type": "code",
   "execution_count": 9,
   "metadata": {
    "collapsed": true
   },
   "outputs": [
    {
     "data": {
      "text/html": [
       "<pre>Learning a topic model</pre>"
      ],
      "text/plain": [
       "Learning a topic model"
      ]
     },
     "metadata": {},
     "output_type": "display_data"
    },
    {
     "data": {
      "text/html": [
       "<pre>       Number of documents     49415</pre>"
      ],
      "text/plain": [
       "       Number of documents     49415"
      ]
     },
     "metadata": {},
     "output_type": "display_data"
    },
    {
     "data": {
      "text/html": [
       "<pre>           Vocabulary size     87887</pre>"
      ],
      "text/plain": [
       "           Vocabulary size     87887"
      ]
     },
     "metadata": {},
     "output_type": "display_data"
    },
    {
     "data": {
      "text/html": [
       "<pre>   Running collapsed Gibbs sampling</pre>"
      ],
      "text/plain": [
       "   Running collapsed Gibbs sampling"
      ]
     },
     "metadata": {},
     "output_type": "display_data"
    },
    {
     "data": {
      "text/html": [
       "<pre>+-----------+---------------+----------------+-----------------+</pre>"
      ],
      "text/plain": [
       "+-----------+---------------+----------------+-----------------+"
      ]
     },
     "metadata": {},
     "output_type": "display_data"
    },
    {
     "data": {
      "text/html": [
       "<pre>| Iteration | Elapsed Time  | Tokens/Second  | Est. Perplexity |</pre>"
      ],
      "text/plain": [
       "| Iteration | Elapsed Time  | Tokens/Second  | Est. Perplexity |"
      ]
     },
     "metadata": {},
     "output_type": "display_data"
    },
    {
     "data": {
      "text/html": [
       "<pre>+-----------+---------------+----------------+-----------------+</pre>"
      ],
      "text/plain": [
       "+-----------+---------------+----------------+-----------------+"
      ]
     },
     "metadata": {},
     "output_type": "display_data"
    },
    {
     "data": {
      "text/html": [
       "<pre>| 10        | 4.22s         | 4.57673e+06    | 0               |</pre>"
      ],
      "text/plain": [
       "| 10        | 4.22s         | 4.57673e+06    | 0               |"
      ]
     },
     "metadata": {},
     "output_type": "display_data"
    },
    {
     "data": {
      "text/html": [
       "<pre>| 20        | 7.65s         | 6.38048e+06    | 0               |</pre>"
      ],
      "text/plain": [
       "| 20        | 7.65s         | 6.38048e+06    | 0               |"
      ]
     },
     "metadata": {},
     "output_type": "display_data"
    },
    {
     "data": {
      "text/html": [
       "<pre>| 30        | 11.01s        | 6.26317e+06    | 0               |</pre>"
      ],
      "text/plain": [
       "| 30        | 11.01s        | 6.26317e+06    | 0               |"
      ]
     },
     "metadata": {},
     "output_type": "display_data"
    },
    {
     "data": {
      "text/html": [
       "<pre>| 40        | 14.37s        | 6.28342e+06    | 0               |</pre>"
      ],
      "text/plain": [
       "| 40        | 14.37s        | 6.28342e+06    | 0               |"
      ]
     },
     "metadata": {},
     "output_type": "display_data"
    },
    {
     "data": {
      "text/html": [
       "<pre>| 50        | 17.63s        | 6.50431e+06    | 0               |</pre>"
      ],
      "text/plain": [
       "| 50        | 17.63s        | 6.50431e+06    | 0               |"
      ]
     },
     "metadata": {},
     "output_type": "display_data"
    },
    {
     "data": {
      "text/html": [
       "<pre>| 60        | 20.87s        | 6.56043e+06    | 0               |</pre>"
      ],
      "text/plain": [
       "| 60        | 20.87s        | 6.56043e+06    | 0               |"
      ]
     },
     "metadata": {},
     "output_type": "display_data"
    },
    {
     "data": {
      "text/html": [
       "<pre>| 70        | 24.46s        | 4.62319e+06    | 0               |</pre>"
      ],
      "text/plain": [
       "| 70        | 24.46s        | 4.62319e+06    | 0               |"
      ]
     },
     "metadata": {},
     "output_type": "display_data"
    },
    {
     "data": {
      "text/html": [
       "<pre>| 80        | 28.42s        | 5.65304e+06    | 0               |</pre>"
      ],
      "text/plain": [
       "| 80        | 28.42s        | 5.65304e+06    | 0               |"
      ]
     },
     "metadata": {},
     "output_type": "display_data"
    },
    {
     "data": {
      "text/html": [
       "<pre>| 90        | 32.13s        | 5.63725e+06    | 0               |</pre>"
      ],
      "text/plain": [
       "| 90        | 32.13s        | 5.63725e+06    | 0               |"
      ]
     },
     "metadata": {},
     "output_type": "display_data"
    },
    {
     "data": {
      "text/html": [
       "<pre>| 100       | 35.54s        | 6.29223e+06    | 0               |</pre>"
      ],
      "text/plain": [
       "| 100       | 35.54s        | 6.29223e+06    | 0               |"
      ]
     },
     "metadata": {},
     "output_type": "display_data"
    },
    {
     "data": {
      "text/html": [
       "<pre>| 110       | 38.86s        | 6.45525e+06    | 0               |</pre>"
      ],
      "text/plain": [
       "| 110       | 38.86s        | 6.45525e+06    | 0               |"
      ]
     },
     "metadata": {},
     "output_type": "display_data"
    },
    {
     "data": {
      "text/html": [
       "<pre>| 120       | 42.41s        | 5.69716e+06    | 0               |</pre>"
      ],
      "text/plain": [
       "| 120       | 42.41s        | 5.69716e+06    | 0               |"
      ]
     },
     "metadata": {},
     "output_type": "display_data"
    },
    {
     "data": {
      "text/html": [
       "<pre>| 130       | 46.16s        | 5.76656e+06    | 0               |</pre>"
      ],
      "text/plain": [
       "| 130       | 46.16s        | 5.76656e+06    | 0               |"
      ]
     },
     "metadata": {},
     "output_type": "display_data"
    },
    {
     "data": {
      "text/html": [
       "<pre>| 140       | 49.62s        | 6.33124e+06    | 0               |</pre>"
      ],
      "text/plain": [
       "| 140       | 49.62s        | 6.33124e+06    | 0               |"
      ]
     },
     "metadata": {},
     "output_type": "display_data"
    },
    {
     "data": {
      "text/html": [
       "<pre>| 150       | 52.93s        | 6.32936e+06    | 0               |</pre>"
      ],
      "text/plain": [
       "| 150       | 52.93s        | 6.32936e+06    | 0               |"
      ]
     },
     "metadata": {},
     "output_type": "display_data"
    },
    {
     "data": {
      "text/html": [
       "<pre>| 160       | 56.26s        | 5.65269e+06    | 0               |</pre>"
      ],
      "text/plain": [
       "| 160       | 56.26s        | 5.65269e+06    | 0               |"
      ]
     },
     "metadata": {},
     "output_type": "display_data"
    },
    {
     "data": {
      "text/html": [
       "<pre>| 170       | 59.71s        | 6.41239e+06    | 0               |</pre>"
      ],
      "text/plain": [
       "| 170       | 59.71s        | 6.41239e+06    | 0               |"
      ]
     },
     "metadata": {},
     "output_type": "display_data"
    },
    {
     "data": {
      "text/html": [
       "<pre>| 180       | 1m 3s         | 6.27003e+06    | 0               |</pre>"
      ],
      "text/plain": [
       "| 180       | 1m 3s         | 6.27003e+06    | 0               |"
      ]
     },
     "metadata": {},
     "output_type": "display_data"
    },
    {
     "data": {
      "text/html": [
       "<pre>| 190       | 1m 6s         | 6.27594e+06    | 0               |</pre>"
      ],
      "text/plain": [
       "| 190       | 1m 6s         | 6.27594e+06    | 0               |"
      ]
     },
     "metadata": {},
     "output_type": "display_data"
    },
    {
     "data": {
      "text/html": [
       "<pre>| 200       | 1m 9s         | 6.298e+06      | 0               |</pre>"
      ],
      "text/plain": [
       "| 200       | 1m 9s         | 6.298e+06      | 0               |"
      ]
     },
     "metadata": {},
     "output_type": "display_data"
    },
    {
     "data": {
      "text/html": [
       "<pre>| 210       | 1m 13s        | 5.26819e+06    | 0               |</pre>"
      ],
      "text/plain": [
       "| 210       | 1m 13s        | 5.26819e+06    | 0               |"
      ]
     },
     "metadata": {},
     "output_type": "display_data"
    },
    {
     "data": {
      "text/html": [
       "<pre>| 220       | 1m 16s        | 6.20912e+06    | 0               |</pre>"
      ],
      "text/plain": [
       "| 220       | 1m 16s        | 6.20912e+06    | 0               |"
      ]
     },
     "metadata": {},
     "output_type": "display_data"
    },
    {
     "data": {
      "text/html": [
       "<pre>| 230       | 1m 19s        | 5.59427e+06    | 0               |</pre>"
      ],
      "text/plain": [
       "| 230       | 1m 19s        | 5.59427e+06    | 0               |"
      ]
     },
     "metadata": {},
     "output_type": "display_data"
    },
    {
     "data": {
      "text/html": [
       "<pre>| 240       | 1m 24s        | 5.98727e+06    | 0               |</pre>"
      ],
      "text/plain": [
       "| 240       | 1m 24s        | 5.98727e+06    | 0               |"
      ]
     },
     "metadata": {},
     "output_type": "display_data"
    },
    {
     "data": {
      "text/html": [
       "<pre>| 250       | 1m 28s        | 4.53637e+06    | 0               |</pre>"
      ],
      "text/plain": [
       "| 250       | 1m 28s        | 4.53637e+06    | 0               |"
      ]
     },
     "metadata": {},
     "output_type": "display_data"
    },
    {
     "data": {
      "text/html": [
       "<pre>| 260       | 1m 32s        | 4.51804e+06    | 0               |</pre>"
      ],
      "text/plain": [
       "| 260       | 1m 32s        | 4.51804e+06    | 0               |"
      ]
     },
     "metadata": {},
     "output_type": "display_data"
    },
    {
     "data": {
      "text/html": [
       "<pre>| 270       | 1m 36s        | 6.29033e+06    | 0               |</pre>"
      ],
      "text/plain": [
       "| 270       | 1m 36s        | 6.29033e+06    | 0               |"
      ]
     },
     "metadata": {},
     "output_type": "display_data"
    },
    {
     "data": {
      "text/html": [
       "<pre>| 280       | 1m 39s        | 6.30525e+06    | 0               |</pre>"
      ],
      "text/plain": [
       "| 280       | 1m 39s        | 6.30525e+06    | 0               |"
      ]
     },
     "metadata": {},
     "output_type": "display_data"
    },
    {
     "data": {
      "text/html": [
       "<pre>| 290       | 1m 43s        | 6.3294e+06     | 0               |</pre>"
      ],
      "text/plain": [
       "| 290       | 1m 43s        | 6.3294e+06     | 0               |"
      ]
     },
     "metadata": {},
     "output_type": "display_data"
    },
    {
     "data": {
      "text/html": [
       "<pre>| 300       | 1m 46s        | 6.12463e+06    | 0               |</pre>"
      ],
      "text/plain": [
       "| 300       | 1m 46s        | 6.12463e+06    | 0               |"
      ]
     },
     "metadata": {},
     "output_type": "display_data"
    },
    {
     "data": {
      "text/html": [
       "<pre>| 310       | 1m 50s        | 4.51213e+06    | 0               |</pre>"
      ],
      "text/plain": [
       "| 310       | 1m 50s        | 4.51213e+06    | 0               |"
      ]
     },
     "metadata": {},
     "output_type": "display_data"
    },
    {
     "data": {
      "text/html": [
       "<pre>| 320       | 1m 54s        | 4.29608e+06    | 0               |</pre>"
      ],
      "text/plain": [
       "| 320       | 1m 54s        | 4.29608e+06    | 0               |"
      ]
     },
     "metadata": {},
     "output_type": "display_data"
    },
    {
     "data": {
      "text/html": [
       "<pre>| 330       | 1m 58s        | 6.35108e+06    | 0               |</pre>"
      ],
      "text/plain": [
       "| 330       | 1m 58s        | 6.35108e+06    | 0               |"
      ]
     },
     "metadata": {},
     "output_type": "display_data"
    },
    {
     "data": {
      "text/html": [
       "<pre>| 340       | 2m 1s         | 6.07028e+06    | 0               |</pre>"
      ],
      "text/plain": [
       "| 340       | 2m 1s         | 6.07028e+06    | 0               |"
      ]
     },
     "metadata": {},
     "output_type": "display_data"
    },
    {
     "data": {
      "text/html": [
       "<pre>| 350       | 2m 4s         | 6.22172e+06    | 0               |</pre>"
      ],
      "text/plain": [
       "| 350       | 2m 4s         | 6.22172e+06    | 0               |"
      ]
     },
     "metadata": {},
     "output_type": "display_data"
    },
    {
     "data": {
      "text/html": [
       "<pre>| 360       | 2m 7s         | 6.2768e+06     | 0               |</pre>"
      ],
      "text/plain": [
       "| 360       | 2m 7s         | 6.2768e+06     | 0               |"
      ]
     },
     "metadata": {},
     "output_type": "display_data"
    },
    {
     "data": {
      "text/html": [
       "<pre>| 370       | 2m 11s        | 6.39449e+06    | 0               |</pre>"
      ],
      "text/plain": [
       "| 370       | 2m 11s        | 6.39449e+06    | 0               |"
      ]
     },
     "metadata": {},
     "output_type": "display_data"
    },
    {
     "data": {
      "text/html": [
       "<pre>| 380       | 2m 14s        | 6.32297e+06    | 0               |</pre>"
      ],
      "text/plain": [
       "| 380       | 2m 14s        | 6.32297e+06    | 0               |"
      ]
     },
     "metadata": {},
     "output_type": "display_data"
    },
    {
     "data": {
      "text/html": [
       "<pre>| 390       | 2m 17s        | 6.27935e+06    | 0               |</pre>"
      ],
      "text/plain": [
       "| 390       | 2m 17s        | 6.27935e+06    | 0               |"
      ]
     },
     "metadata": {},
     "output_type": "display_data"
    },
    {
     "data": {
      "text/html": [
       "<pre>| 400       | 2m 21s        | 6.19728e+06    | 0               |</pre>"
      ],
      "text/plain": [
       "| 400       | 2m 21s        | 6.19728e+06    | 0               |"
      ]
     },
     "metadata": {},
     "output_type": "display_data"
    },
    {
     "data": {
      "text/html": [
       "<pre>| 410       | 2m 25s        | 5.19537e+06    | 0               |</pre>"
      ],
      "text/plain": [
       "| 410       | 2m 25s        | 5.19537e+06    | 0               |"
      ]
     },
     "metadata": {},
     "output_type": "display_data"
    },
    {
     "data": {
      "text/html": [
       "<pre>| 420       | 2m 30s        | 6.16955e+06    | 0               |</pre>"
      ],
      "text/plain": [
       "| 420       | 2m 30s        | 6.16955e+06    | 0               |"
      ]
     },
     "metadata": {},
     "output_type": "display_data"
    },
    {
     "data": {
      "text/html": [
       "<pre>| 430       | 2m 33s        | 6.38888e+06    | 0               |</pre>"
      ],
      "text/plain": [
       "| 430       | 2m 33s        | 6.38888e+06    | 0               |"
      ]
     },
     "metadata": {},
     "output_type": "display_data"
    },
    {
     "data": {
      "text/html": [
       "<pre>| 440       | 2m 37s        | 6.35946e+06    | 0               |</pre>"
      ],
      "text/plain": [
       "| 440       | 2m 37s        | 6.35946e+06    | 0               |"
      ]
     },
     "metadata": {},
     "output_type": "display_data"
    },
    {
     "data": {
      "text/html": [
       "<pre>| 450       | 2m 41s        | 6.35851e+06    | 0               |</pre>"
      ],
      "text/plain": [
       "| 450       | 2m 41s        | 6.35851e+06    | 0               |"
      ]
     },
     "metadata": {},
     "output_type": "display_data"
    },
    {
     "data": {
      "text/html": [
       "<pre>| 460       | 2m 44s        | 6.32449e+06    | 0               |</pre>"
      ],
      "text/plain": [
       "| 460       | 2m 44s        | 6.32449e+06    | 0               |"
      ]
     },
     "metadata": {},
     "output_type": "display_data"
    },
    {
     "data": {
      "text/html": [
       "<pre>| 470       | 2m 47s        | 6.40312e+06    | 0               |</pre>"
      ],
      "text/plain": [
       "| 470       | 2m 47s        | 6.40312e+06    | 0               |"
      ]
     },
     "metadata": {},
     "output_type": "display_data"
    },
    {
     "data": {
      "text/html": [
       "<pre>| 480       | 2m 51s        | 6.32489e+06    | 0               |</pre>"
      ],
      "text/plain": [
       "| 480       | 2m 51s        | 6.32489e+06    | 0               |"
      ]
     },
     "metadata": {},
     "output_type": "display_data"
    },
    {
     "data": {
      "text/html": [
       "<pre>| 490       | 2m 54s        | 6.12538e+06    | 0               |</pre>"
      ],
      "text/plain": [
       "| 490       | 2m 54s        | 6.12538e+06    | 0               |"
      ]
     },
     "metadata": {},
     "output_type": "display_data"
    },
    {
     "data": {
      "text/html": [
       "<pre>| 500       | 2m 57s        | 5.15645e+06    | 0               |</pre>"
      ],
      "text/plain": [
       "| 500       | 2m 57s        | 5.15645e+06    | 0               |"
      ]
     },
     "metadata": {},
     "output_type": "display_data"
    },
    {
     "data": {
      "text/html": [
       "<pre>| 510       | 3m 2s         | 3.92874e+06    | 0               |</pre>"
      ],
      "text/plain": [
       "| 510       | 3m 2s         | 3.92874e+06    | 0               |"
      ]
     },
     "metadata": {},
     "output_type": "display_data"
    },
    {
     "data": {
      "text/html": [
       "<pre>| 520       | 3m 6s         | 5.50529e+06    | 0               |</pre>"
      ],
      "text/plain": [
       "| 520       | 3m 6s         | 5.50529e+06    | 0               |"
      ]
     },
     "metadata": {},
     "output_type": "display_data"
    },
    {
     "data": {
      "text/html": [
       "<pre>| 530       | 3m 10s        | 6.20993e+06    | 0               |</pre>"
      ],
      "text/plain": [
       "| 530       | 3m 10s        | 6.20993e+06    | 0               |"
      ]
     },
     "metadata": {},
     "output_type": "display_data"
    },
    {
     "data": {
      "text/html": [
       "<pre>| 540       | 3m 13s        | 6.25543e+06    | 0               |</pre>"
      ],
      "text/plain": [
       "| 540       | 3m 13s        | 6.25543e+06    | 0               |"
      ]
     },
     "metadata": {},
     "output_type": "display_data"
    },
    {
     "data": {
      "text/html": [
       "<pre>| 550       | 3m 17s        | 4.67863e+06    | 0               |</pre>"
      ],
      "text/plain": [
       "| 550       | 3m 17s        | 4.67863e+06    | 0               |"
      ]
     },
     "metadata": {},
     "output_type": "display_data"
    },
    {
     "data": {
      "text/html": [
       "<pre>| 560       | 3m 22s        | 6.20048e+06    | 0               |</pre>"
      ],
      "text/plain": [
       "| 560       | 3m 22s        | 6.20048e+06    | 0               |"
      ]
     },
     "metadata": {},
     "output_type": "display_data"
    },
    {
     "data": {
      "text/html": [
       "<pre>| 570       | 3m 26s        | 5.88919e+06    | 0               |</pre>"
      ],
      "text/plain": [
       "| 570       | 3m 26s        | 5.88919e+06    | 0               |"
      ]
     },
     "metadata": {},
     "output_type": "display_data"
    },
    {
     "data": {
      "text/html": [
       "<pre>| 580       | 3m 30s        | 4.09139e+06    | 0               |</pre>"
      ],
      "text/plain": [
       "| 580       | 3m 30s        | 4.09139e+06    | 0               |"
      ]
     },
     "metadata": {},
     "output_type": "display_data"
    },
    {
     "data": {
      "text/html": [
       "<pre>| 590       | 3m 34s        | 5.17567e+06    | 0               |</pre>"
      ],
      "text/plain": [
       "| 590       | 3m 34s        | 5.17567e+06    | 0               |"
      ]
     },
     "metadata": {},
     "output_type": "display_data"
    },
    {
     "data": {
      "text/html": [
       "<pre>| 600       | 3m 38s        | 6.41336e+06    | 0               |</pre>"
      ],
      "text/plain": [
       "| 600       | 3m 38s        | 6.41336e+06    | 0               |"
      ]
     },
     "metadata": {},
     "output_type": "display_data"
    },
    {
     "data": {
      "text/html": [
       "<pre>| 610       | 3m 41s        | 6.36183e+06    | 0               |</pre>"
      ],
      "text/plain": [
       "| 610       | 3m 41s        | 6.36183e+06    | 0               |"
      ]
     },
     "metadata": {},
     "output_type": "display_data"
    },
    {
     "data": {
      "text/html": [
       "<pre>| 620       | 3m 44s        | 6.41076e+06    | 0               |</pre>"
      ],
      "text/plain": [
       "| 620       | 3m 44s        | 6.41076e+06    | 0               |"
      ]
     },
     "metadata": {},
     "output_type": "display_data"
    },
    {
     "data": {
      "text/html": [
       "<pre>| 630       | 3m 47s        | 6.39688e+06    | 0               |</pre>"
      ],
      "text/plain": [
       "| 630       | 3m 47s        | 6.39688e+06    | 0               |"
      ]
     },
     "metadata": {},
     "output_type": "display_data"
    },
    {
     "data": {
      "text/html": [
       "<pre>| 640       | 3m 51s        | 6.19763e+06    | 0               |</pre>"
      ],
      "text/plain": [
       "| 640       | 3m 51s        | 6.19763e+06    | 0               |"
      ]
     },
     "metadata": {},
     "output_type": "display_data"
    },
    {
     "data": {
      "text/html": [
       "<pre>| 650       | 3m 54s        | 5.86823e+06    | 0               |</pre>"
      ],
      "text/plain": [
       "| 650       | 3m 54s        | 5.86823e+06    | 0               |"
      ]
     },
     "metadata": {},
     "output_type": "display_data"
    },
    {
     "data": {
      "text/html": [
       "<pre>| 660       | 3m 58s        | 5.80765e+06    | 0               |</pre>"
      ],
      "text/plain": [
       "| 660       | 3m 58s        | 5.80765e+06    | 0               |"
      ]
     },
     "metadata": {},
     "output_type": "display_data"
    },
    {
     "data": {
      "text/html": [
       "<pre>| 670       | 4m 2s         | 5.29293e+06    | 0               |</pre>"
      ],
      "text/plain": [
       "| 670       | 4m 2s         | 5.29293e+06    | 0               |"
      ]
     },
     "metadata": {},
     "output_type": "display_data"
    },
    {
     "data": {
      "text/html": [
       "<pre>| 680       | 4m 6s         | 5.82429e+06    | 0               |</pre>"
      ],
      "text/plain": [
       "| 680       | 4m 6s         | 5.82429e+06    | 0               |"
      ]
     },
     "metadata": {},
     "output_type": "display_data"
    },
    {
     "data": {
      "text/html": [
       "<pre>| 690       | 4m 10s        | 6.10027e+06    | 0               |</pre>"
      ],
      "text/plain": [
       "| 690       | 4m 10s        | 6.10027e+06    | 0               |"
      ]
     },
     "metadata": {},
     "output_type": "display_data"
    },
    {
     "data": {
      "text/html": [
       "<pre>| 700       | 4m 13s        | 6.28399e+06    | 0               |</pre>"
      ],
      "text/plain": [
       "| 700       | 4m 13s        | 6.28399e+06    | 0               |"
      ]
     },
     "metadata": {},
     "output_type": "display_data"
    },
    {
     "data": {
      "text/html": [
       "<pre>| 710       | 4m 17s        | 6.28372e+06    | 0               |</pre>"
      ],
      "text/plain": [
       "| 710       | 4m 17s        | 6.28372e+06    | 0               |"
      ]
     },
     "metadata": {},
     "output_type": "display_data"
    },
    {
     "data": {
      "text/html": [
       "<pre>| 720       | 4m 20s        | 6.30797e+06    | 0               |</pre>"
      ],
      "text/plain": [
       "| 720       | 4m 20s        | 6.30797e+06    | 0               |"
      ]
     },
     "metadata": {},
     "output_type": "display_data"
    },
    {
     "data": {
      "text/html": [
       "<pre>| 730       | 4m 23s        | 6.28715e+06    | 0               |</pre>"
      ],
      "text/plain": [
       "| 730       | 4m 23s        | 6.28715e+06    | 0               |"
      ]
     },
     "metadata": {},
     "output_type": "display_data"
    },
    {
     "data": {
      "text/html": [
       "<pre>| 740       | 4m 27s        | 6.45215e+06    | 0               |</pre>"
      ],
      "text/plain": [
       "| 740       | 4m 27s        | 6.45215e+06    | 0               |"
      ]
     },
     "metadata": {},
     "output_type": "display_data"
    },
    {
     "data": {
      "text/html": [
       "<pre>| 750       | 4m 31s        | 6.08035e+06    | 0               |</pre>"
      ],
      "text/plain": [
       "| 750       | 4m 31s        | 6.08035e+06    | 0               |"
      ]
     },
     "metadata": {},
     "output_type": "display_data"
    },
    {
     "data": {
      "text/html": [
       "<pre>| 760       | 4m 34s        | 6.3402e+06     | 0               |</pre>"
      ],
      "text/plain": [
       "| 760       | 4m 34s        | 6.3402e+06     | 0               |"
      ]
     },
     "metadata": {},
     "output_type": "display_data"
    },
    {
     "data": {
      "text/html": [
       "<pre>| 770       | 4m 37s        | 6.32564e+06    | 0               |</pre>"
      ],
      "text/plain": [
       "| 770       | 4m 37s        | 6.32564e+06    | 0               |"
      ]
     },
     "metadata": {},
     "output_type": "display_data"
    },
    {
     "data": {
      "text/html": [
       "<pre>| 780       | 4m 41s        | 5.99302e+06    | 0               |</pre>"
      ],
      "text/plain": [
       "| 780       | 4m 41s        | 5.99302e+06    | 0               |"
      ]
     },
     "metadata": {},
     "output_type": "display_data"
    },
    {
     "data": {
      "text/html": [
       "<pre>| 790       | 4m 44s        | 6.27782e+06    | 0               |</pre>"
      ],
      "text/plain": [
       "| 790       | 4m 44s        | 6.27782e+06    | 0               |"
      ]
     },
     "metadata": {},
     "output_type": "display_data"
    },
    {
     "data": {
      "text/html": [
       "<pre>| 800       | 4m 47s        | 6.209e+06      | 0               |</pre>"
      ],
      "text/plain": [
       "| 800       | 4m 47s        | 6.209e+06      | 0               |"
      ]
     },
     "metadata": {},
     "output_type": "display_data"
    },
    {
     "data": {
      "text/html": [
       "<pre>| 810       | 4m 51s        | 6.16463e+06    | 0               |</pre>"
      ],
      "text/plain": [
       "| 810       | 4m 51s        | 6.16463e+06    | 0               |"
      ]
     },
     "metadata": {},
     "output_type": "display_data"
    },
    {
     "data": {
      "text/html": [
       "<pre>| 820       | 4m 55s        | 4.27586e+06    | 0               |</pre>"
      ],
      "text/plain": [
       "| 820       | 4m 55s        | 4.27586e+06    | 0               |"
      ]
     },
     "metadata": {},
     "output_type": "display_data"
    },
    {
     "data": {
      "text/html": [
       "<pre>| 830       | 4m 58s        | 6.12513e+06    | 0               |</pre>"
      ],
      "text/plain": [
       "| 830       | 4m 58s        | 6.12513e+06    | 0               |"
      ]
     },
     "metadata": {},
     "output_type": "display_data"
    },
    {
     "data": {
      "text/html": [
       "<pre>| 840       | 5m 1s         | 6.24402e+06    | 0               |</pre>"
      ],
      "text/plain": [
       "| 840       | 5m 1s         | 6.24402e+06    | 0               |"
      ]
     },
     "metadata": {},
     "output_type": "display_data"
    },
    {
     "data": {
      "text/html": [
       "<pre>| 850       | 5m 5s         | 6.12082e+06    | 0               |</pre>"
      ],
      "text/plain": [
       "| 850       | 5m 5s         | 6.12082e+06    | 0               |"
      ]
     },
     "metadata": {},
     "output_type": "display_data"
    },
    {
     "data": {
      "text/html": [
       "<pre>| 860       | 5m 8s         | 6.24691e+06    | 0               |</pre>"
      ],
      "text/plain": [
       "| 860       | 5m 8s         | 6.24691e+06    | 0               |"
      ]
     },
     "metadata": {},
     "output_type": "display_data"
    },
    {
     "data": {
      "text/html": [
       "<pre>| 870       | 5m 11s        | 6.18664e+06    | 0               |</pre>"
      ],
      "text/plain": [
       "| 870       | 5m 11s        | 6.18664e+06    | 0               |"
      ]
     },
     "metadata": {},
     "output_type": "display_data"
    },
    {
     "data": {
      "text/html": [
       "<pre>| 880       | 5m 15s        | 6.34161e+06    | 0               |</pre>"
      ],
      "text/plain": [
       "| 880       | 5m 15s        | 6.34161e+06    | 0               |"
      ]
     },
     "metadata": {},
     "output_type": "display_data"
    },
    {
     "data": {
      "text/html": [
       "<pre>| 890       | 5m 18s        | 6.33953e+06    | 0               |</pre>"
      ],
      "text/plain": [
       "| 890       | 5m 18s        | 6.33953e+06    | 0               |"
      ]
     },
     "metadata": {},
     "output_type": "display_data"
    },
    {
     "data": {
      "text/html": [
       "<pre>| 900       | 5m 22s        | 5.83811e+06    | 0               |</pre>"
      ],
      "text/plain": [
       "| 900       | 5m 22s        | 5.83811e+06    | 0               |"
      ]
     },
     "metadata": {},
     "output_type": "display_data"
    },
    {
     "data": {
      "text/html": [
       "<pre>| 910       | 5m 25s        | 5.51349e+06    | 0               |</pre>"
      ],
      "text/plain": [
       "| 910       | 5m 25s        | 5.51349e+06    | 0               |"
      ]
     },
     "metadata": {},
     "output_type": "display_data"
    },
    {
     "data": {
      "text/html": [
       "<pre>| 920       | 5m 30s        | 4.21009e+06    | 0               |</pre>"
      ],
      "text/plain": [
       "| 920       | 5m 30s        | 4.21009e+06    | 0               |"
      ]
     },
     "metadata": {},
     "output_type": "display_data"
    },
    {
     "data": {
      "text/html": [
       "<pre>| 930       | 5m 34s        | 6.17257e+06    | 0               |</pre>"
      ],
      "text/plain": [
       "| 930       | 5m 34s        | 6.17257e+06    | 0               |"
      ]
     },
     "metadata": {},
     "output_type": "display_data"
    },
    {
     "data": {
      "text/html": [
       "<pre>| 940       | 5m 37s        | 6.17694e+06    | 0               |</pre>"
      ],
      "text/plain": [
       "| 940       | 5m 37s        | 6.17694e+06    | 0               |"
      ]
     },
     "metadata": {},
     "output_type": "display_data"
    },
    {
     "data": {
      "text/html": [
       "<pre>| 950       | 5m 41s        | 5.44182e+06    | 0               |</pre>"
      ],
      "text/plain": [
       "| 950       | 5m 41s        | 5.44182e+06    | 0               |"
      ]
     },
     "metadata": {},
     "output_type": "display_data"
    },
    {
     "data": {
      "text/html": [
       "<pre>| 960       | 5m 45s        | 5.47356e+06    | 0               |</pre>"
      ],
      "text/plain": [
       "| 960       | 5m 45s        | 5.47356e+06    | 0               |"
      ]
     },
     "metadata": {},
     "output_type": "display_data"
    },
    {
     "data": {
      "text/html": [
       "<pre>| 970       | 5m 49s        | 6.35099e+06    | 0               |</pre>"
      ],
      "text/plain": [
       "| 970       | 5m 49s        | 6.35099e+06    | 0               |"
      ]
     },
     "metadata": {},
     "output_type": "display_data"
    },
    {
     "data": {
      "text/html": [
       "<pre>| 980       | 5m 52s        | 6.31712e+06    | 0               |</pre>"
      ],
      "text/plain": [
       "| 980       | 5m 52s        | 6.31712e+06    | 0               |"
      ]
     },
     "metadata": {},
     "output_type": "display_data"
    },
    {
     "data": {
      "text/html": [
       "<pre>| 990       | 5m 55s        | 6.0379e+06     | 0               |</pre>"
      ],
      "text/plain": [
       "| 990       | 5m 55s        | 6.0379e+06     | 0               |"
      ]
     },
     "metadata": {},
     "output_type": "display_data"
    },
    {
     "data": {
      "text/html": [
       "<pre>| 1000      | 5m 59s        | 6.32477e+06    | 0               |</pre>"
      ],
      "text/plain": [
       "| 1000      | 5m 59s        | 6.32477e+06    | 0               |"
      ]
     },
     "metadata": {},
     "output_type": "display_data"
    },
    {
     "data": {
      "text/html": [
       "<pre>+-----------+---------------+----------------+-----------------+</pre>"
      ],
      "text/plain": [
       "+-----------+---------------+----------------+-----------------+"
      ]
     },
     "metadata": {},
     "output_type": "display_data"
    }
   ],
   "source": [
    "# Learn topic model\n",
    "Topic_Model = gl.topic_model.create(docs, num_topics=50, num_iterations=1000)"
   ]
  },
  {
   "cell_type": "code",
   "execution_count": 10,
   "metadata": {
    "collapsed": true
   },
   "outputs": [],
   "source": [
    "Topic_Model.save('Topic_Model')"
   ]
  },
  {
   "cell_type": "code",
   "execution_count": null,
   "metadata": {
    "collapsed": true
   },
   "outputs": [],
   "source": []
  }
 ],
 "metadata": {
  "kernelspec": {
   "display_name": "Python 2",
   "language": "python",
   "name": "python2"
  },
  "language_info": {
   "codemirror_mode": {
    "name": "ipython",
    "version": 2
   },
   "file_extension": ".py",
   "mimetype": "text/x-python",
   "name": "python",
   "nbconvert_exporter": "python",
   "pygments_lexer": "ipython2",
   "version": "2.7.10"
  }
 },
 "nbformat": 4,
 "nbformat_minor": 0
}
