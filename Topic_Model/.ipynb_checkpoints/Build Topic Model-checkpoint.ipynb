{
 "cells": [
  {
   "cell_type": "code",
   "execution_count": 1,
   "metadata": {
    "collapsed": true
   },
   "outputs": [],
   "source": [
    "import graphlab as gl\n",
    "import os"
   ]
  },
  {
   "cell_type": "code",
   "execution_count": 2,
   "metadata": {
    "collapsed": false
   },
   "outputs": [],
   "source": [
    "# if os.path.exists('./TEXT_SOURCE.csv'):\n",
    "#     docs = gl.SFrame('./TEXT_SOURCE.csv')"
   ]
  },
  {
   "cell_type": "code",
   "execution_count": 3,
   "metadata": {
    "collapsed": false
   },
   "outputs": [
    {
     "name": "stderr",
     "output_type": "stream",
     "text": [
      "2016-04-24 20:07:58,124 [INFO] graphlab.cython.cy_server, 176: GraphLab Create v1.8.5 started. Logging: /tmp/graphlab_server_1461499676.log\n"
     ]
    },
    {
     "data": {
      "text/html": [
       "<pre>Finished parsing file /Users/gaozhipeng/ML/Data_Preparing/Topic_Model/TEXT_SOURCE.csv</pre>"
      ],
      "text/plain": [
       "Finished parsing file /Users/gaozhipeng/ML/Data_Preparing/Topic_Model/TEXT_SOURCE.csv"
      ]
     },
     "metadata": {},
     "output_type": "display_data"
    },
    {
     "data": {
      "text/html": [
       "<pre>Parsing completed. Parsed 100 lines in 0.283044 secs.</pre>"
      ],
      "text/plain": [
       "Parsing completed. Parsed 100 lines in 0.283044 secs."
      ]
     },
     "metadata": {},
     "output_type": "display_data"
    },
    {
     "name": "stdout",
     "output_type": "stream",
     "text": [
      "This non-commercial license of GraphLab Create is assigned to beyond_acm@163.com and will expire on January 04, 2017. For commercial licensing options, visit https://dato.com/buy/.\n",
      "------------------------------------------------------"
     ]
    },
    {
     "data": {
      "text/html": [
       "<pre>Finished parsing file /Users/gaozhipeng/ML/Data_Preparing/Topic_Model/TEXT_SOURCE.csv</pre>"
      ],
      "text/plain": [
       "Finished parsing file /Users/gaozhipeng/ML/Data_Preparing/Topic_Model/TEXT_SOURCE.csv"
      ]
     },
     "metadata": {},
     "output_type": "display_data"
    },
    {
     "data": {
      "text/html": [
       "<pre>Parsing completed. Parsed 30073 lines in 0.334125 secs.</pre>"
      ],
      "text/plain": [
       "Parsing completed. Parsed 30073 lines in 0.334125 secs."
      ]
     },
     "metadata": {},
     "output_type": "display_data"
    },
    {
     "name": "stdout",
     "output_type": "stream",
     "text": [
      "\n",
      "Inferred types from first line of file as \n",
      "column_type_hints=[str]\n",
      "If parsing fails due to incorrect types, you can correct\n",
      "the inferred type list above and pass it to read_csv in\n",
      "the column_type_hints argument\n",
      "------------------------------------------------------\n"
     ]
    }
   ],
   "source": [
    "docs = docs = gl.SFrame.read_csv('./TEXT_SOURCE.csv', header=False)"
   ]
  },
  {
   "cell_type": "code",
   "execution_count": 4,
   "metadata": {
    "collapsed": false
   },
   "outputs": [
    {
     "data": {
      "text/html": [
       "<div style=\"max-height:1000px;max-width:1500px;overflow:auto;\"><table frame=\"box\" rules=\"cols\">\n",
       "    <tr>\n",
       "        <th style=\"padding-left: 1em; padding-right: 1em; text-align: center\">X1</th>\n",
       "    </tr>\n",
       "    <tr>\n",
       "        <td style=\"padding-left: 1em; padding-right: 1em; text-align: center; vertical-align: top\">use salt water nasal<br>spray help prevent ...</td>\n",
       "    </tr>\n",
       "    <tr>\n",
       "        <td style=\"padding-left: 1em; padding-right: 1em; text-align: center; vertical-align: top\">wife recent 3 miscarriag<br>2 chemic pregnanc  one 7 ...</td>\n",
       "    </tr>\n",
       "    <tr>\n",
       "        <td style=\"padding-left: 1em; padding-right: 1em; text-align: center; vertical-align: top\">7 yrs old enlarg adenoid<br>ent given nasonex spray ...</td>\n",
       "    </tr>\n",
       "    <tr>\n",
       "        <td style=\"padding-left: 1em; padding-right: 1em; text-align: center; vertical-align: top\">get girl pregnant low<br>sexual bind ...</td>\n",
       "    </tr>\n",
       "    <tr>\n",
       "        <td style=\"padding-left: 1em; padding-right: 1em; text-align: center; vertical-align: top\">herp outbreak anus never<br>notic vagin outbreak ...</td>\n",
       "    </tr>\n",
       "    <tr>\n",
       "        <td style=\"padding-left: 1em; padding-right: 1em; text-align: center; vertical-align: top\">abcess tooth caus pain<br>ear axillari lymph node ...</td>\n",
       "    </tr>\n",
       "    <tr>\n",
       "        <td style=\"padding-left: 1em; padding-right: 1em; text-align: center; vertical-align: top\">two week ago surgeri left<br>inguin hernia hydrocel ...</td>\n",
       "    </tr>\n",
       "    <tr>\n",
       "        <td style=\"padding-left: 1em; padding-right: 1em; text-align: center; vertical-align: top\">still worri chest pain<br>even normal 2deho jan ...</td>\n",
       "    </tr>\n",
       "    <tr>\n",
       "        <td style=\"padding-left: 1em; padding-right: 1em; text-align: center; vertical-align: top\">protect sexual intercours<br>csw one year test hiv ...</td>\n",
       "    </tr>\n",
       "    <tr>\n",
       "        <td style=\"padding-left: 1em; padding-right: 1em; text-align: center; vertical-align: top\">help doctor say excess<br>ejacul masturb increas ...</td>\n",
       "    </tr>\n",
       "</table>\n",
       "[30073 rows x 1 columns]<br/>Note: Only the head of the SFrame is printed.<br/>You can use print_rows(num_rows=m, num_columns=n) to print more rows and columns.\n",
       "</div>"
      ],
      "text/plain": [
       "Columns:\n",
       "\tX1\tstr\n",
       "\n",
       "Rows: 30073\n",
       "\n",
       "Data:\n",
       "+-------------------------------+\n",
       "|               X1              |\n",
       "+-------------------------------+\n",
       "| use salt water nasal spray... |\n",
       "| wife recent 3 miscarriag  ... |\n",
       "| 7 yrs old enlarg adenoid  ... |\n",
       "| get girl pregnant low sexu... |\n",
       "| herp outbreak anus never n... |\n",
       "| abcess tooth caus pain ear... |\n",
       "| two week ago surgeri left ... |\n",
       "| still worri chest pain eve... |\n",
       "| protect sexual intercours ... |\n",
       "| help doctor say excess eja... |\n",
       "+-------------------------------+\n",
       "[30073 rows x 1 columns]\n",
       "Note: Only the head of the SFrame is printed.\n",
       "You can use print_rows(num_rows=m, num_columns=n) to print more rows and columns."
      ]
     },
     "execution_count": 4,
     "metadata": {},
     "output_type": "execute_result"
    }
   ],
   "source": [
    "docs"
   ]
  },
  {
   "cell_type": "code",
   "execution_count": 5,
   "metadata": {
    "collapsed": true
   },
   "outputs": [],
   "source": [
    "# Remove stopwords and convert to bag of words\n",
    "docs = gl.text_analytics.count_words(docs['X1'])\n",
    "docs = docs.dict_trim_by_keys(gl.text_analytics.stopwords(), exclude=True)"
   ]
  },
  {
   "cell_type": "code",
   "execution_count": 6,
   "metadata": {
    "collapsed": false,
    "scrolled": false
   },
   "outputs": [
    {
     "data": {
      "text/html": [
       "<pre>Learning a topic model</pre>"
      ],
      "text/plain": [
       "Learning a topic model"
      ]
     },
     "metadata": {},
     "output_type": "display_data"
    },
    {
     "data": {
      "text/html": [
       "<pre>       Number of documents     30073</pre>"
      ],
      "text/plain": [
       "       Number of documents     30073"
      ]
     },
     "metadata": {},
     "output_type": "display_data"
    },
    {
     "data": {
      "text/html": [
       "<pre>           Vocabulary size     31991</pre>"
      ],
      "text/plain": [
       "           Vocabulary size     31991"
      ]
     },
     "metadata": {},
     "output_type": "display_data"
    },
    {
     "data": {
      "text/html": [
       "<pre>   Running collapsed Gibbs sampling</pre>"
      ],
      "text/plain": [
       "   Running collapsed Gibbs sampling"
      ]
     },
     "metadata": {},
     "output_type": "display_data"
    },
    {
     "data": {
      "text/html": [
       "<pre>+-----------+---------------+----------------+-----------------+</pre>"
      ],
      "text/plain": [
       "+-----------+---------------+----------------+-----------------+"
      ]
     },
     "metadata": {},
     "output_type": "display_data"
    },
    {
     "data": {
      "text/html": [
       "<pre>| Iteration | Elapsed Time  | Tokens/Second  | Est. Perplexity |</pre>"
      ],
      "text/plain": [
       "| Iteration | Elapsed Time  | Tokens/Second  | Est. Perplexity |"
      ]
     },
     "metadata": {},
     "output_type": "display_data"
    },
    {
     "data": {
      "text/html": [
       "<pre>+-----------+---------------+----------------+-----------------+</pre>"
      ],
      "text/plain": [
       "+-----------+---------------+----------------+-----------------+"
      ]
     },
     "metadata": {},
     "output_type": "display_data"
    },
    {
     "data": {
      "text/html": [
       "<pre>| 10        | 2.48s         | 5.81848e+06    | 0               |</pre>"
      ],
      "text/plain": [
       "| 10        | 2.48s         | 5.81848e+06    | 0               |"
      ]
     },
     "metadata": {},
     "output_type": "display_data"
    },
    {
     "data": {
      "text/html": [
       "<pre>| 20        | 4.94s         | 5.48787e+06    | 0               |</pre>"
      ],
      "text/plain": [
       "| 20        | 4.94s         | 5.48787e+06    | 0               |"
      ]
     },
     "metadata": {},
     "output_type": "display_data"
    },
    {
     "data": {
      "text/html": [
       "<pre>| 30        | 7.74s         | 6.14911e+06    | 0               |</pre>"
      ],
      "text/plain": [
       "| 30        | 7.74s         | 6.14911e+06    | 0               |"
      ]
     },
     "metadata": {},
     "output_type": "display_data"
    },
    {
     "data": {
      "text/html": [
       "<pre>| 40        | 9.96s         | 6.05793e+06    | 0               |</pre>"
      ],
      "text/plain": [
       "| 40        | 9.96s         | 6.05793e+06    | 0               |"
      ]
     },
     "metadata": {},
     "output_type": "display_data"
    },
    {
     "data": {
      "text/html": [
       "<pre>| 50        | 12.58s        | 4.98501e+06    | 0               |</pre>"
      ],
      "text/plain": [
       "| 50        | 12.58s        | 4.98501e+06    | 0               |"
      ]
     },
     "metadata": {},
     "output_type": "display_data"
    },
    {
     "data": {
      "text/html": [
       "<pre>| 60        | 14.90s        | 6.08356e+06    | 0               |</pre>"
      ],
      "text/plain": [
       "| 60        | 14.90s        | 6.08356e+06    | 0               |"
      ]
     },
     "metadata": {},
     "output_type": "display_data"
    },
    {
     "data": {
      "text/html": [
       "<pre>| 70        | 17.12s        | 6.07533e+06    | 0               |</pre>"
      ],
      "text/plain": [
       "| 70        | 17.12s        | 6.07533e+06    | 0               |"
      ]
     },
     "metadata": {},
     "output_type": "display_data"
    },
    {
     "data": {
      "text/html": [
       "<pre>| 80        | 19.30s        | 6.12957e+06    | 0               |</pre>"
      ],
      "text/plain": [
       "| 80        | 19.30s        | 6.12957e+06    | 0               |"
      ]
     },
     "metadata": {},
     "output_type": "display_data"
    },
    {
     "data": {
      "text/html": [
       "<pre>| 90        | 21.49s        | 6.03812e+06    | 0               |</pre>"
      ],
      "text/plain": [
       "| 90        | 21.49s        | 6.03812e+06    | 0               |"
      ]
     },
     "metadata": {},
     "output_type": "display_data"
    },
    {
     "data": {
      "text/html": [
       "<pre>| 100       | 23.67s        | 6.25565e+06    | 0               |</pre>"
      ],
      "text/plain": [
       "| 100       | 23.67s        | 6.25565e+06    | 0               |"
      ]
     },
     "metadata": {},
     "output_type": "display_data"
    },
    {
     "data": {
      "text/html": [
       "<pre>| 110       | 25.85s        | 6.22757e+06    | 0               |</pre>"
      ],
      "text/plain": [
       "| 110       | 25.85s        | 6.22757e+06    | 0               |"
      ]
     },
     "metadata": {},
     "output_type": "display_data"
    },
    {
     "data": {
      "text/html": [
       "<pre>| 120       | 28.01s        | 6.26203e+06    | 0               |</pre>"
      ],
      "text/plain": [
       "| 120       | 28.01s        | 6.26203e+06    | 0               |"
      ]
     },
     "metadata": {},
     "output_type": "display_data"
    },
    {
     "data": {
      "text/html": [
       "<pre>| 130       | 30.19s        | 6.24311e+06    | 0               |</pre>"
      ],
      "text/plain": [
       "| 130       | 30.19s        | 6.24311e+06    | 0               |"
      ]
     },
     "metadata": {},
     "output_type": "display_data"
    },
    {
     "data": {
      "text/html": [
       "<pre>| 140       | 32.37s        | 6.18088e+06    | 0               |</pre>"
      ],
      "text/plain": [
       "| 140       | 32.37s        | 6.18088e+06    | 0               |"
      ]
     },
     "metadata": {},
     "output_type": "display_data"
    },
    {
     "data": {
      "text/html": [
       "<pre>| 150       | 34.94s        | 5.72226e+06    | 0               |</pre>"
      ],
      "text/plain": [
       "| 150       | 34.94s        | 5.72226e+06    | 0               |"
      ]
     },
     "metadata": {},
     "output_type": "display_data"
    },
    {
     "data": {
      "text/html": [
       "<pre>| 160       | 37.10s        | 6.33072e+06    | 0               |</pre>"
      ],
      "text/plain": [
       "| 160       | 37.10s        | 6.33072e+06    | 0               |"
      ]
     },
     "metadata": {},
     "output_type": "display_data"
    },
    {
     "data": {
      "text/html": [
       "<pre>| 170       | 39.29s        | 5.99776e+06    | 0               |</pre>"
      ],
      "text/plain": [
       "| 170       | 39.29s        | 5.99776e+06    | 0               |"
      ]
     },
     "metadata": {},
     "output_type": "display_data"
    },
    {
     "data": {
      "text/html": [
       "<pre>| 180       | 41.47s        | 6.30179e+06    | 0               |</pre>"
      ],
      "text/plain": [
       "| 180       | 41.47s        | 6.30179e+06    | 0               |"
      ]
     },
     "metadata": {},
     "output_type": "display_data"
    },
    {
     "data": {
      "text/html": [
       "<pre>| 190       | 43.67s        | 6.23621e+06    | 0               |</pre>"
      ],
      "text/plain": [
       "| 190       | 43.67s        | 6.23621e+06    | 0               |"
      ]
     },
     "metadata": {},
     "output_type": "display_data"
    },
    {
     "data": {
      "text/html": [
       "<pre>| 200       | 45.83s        | 6.36113e+06    | 0               |</pre>"
      ],
      "text/plain": [
       "| 200       | 45.83s        | 6.36113e+06    | 0               |"
      ]
     },
     "metadata": {},
     "output_type": "display_data"
    },
    {
     "data": {
      "text/html": [
       "<pre>| 210       | 48.01s        | 6.28136e+06    | 0               |</pre>"
      ],
      "text/plain": [
       "| 210       | 48.01s        | 6.28136e+06    | 0               |"
      ]
     },
     "metadata": {},
     "output_type": "display_data"
    },
    {
     "data": {
      "text/html": [
       "<pre>| 220       | 50.21s        | 6.09619e+06    | 0               |</pre>"
      ],
      "text/plain": [
       "| 220       | 50.21s        | 6.09619e+06    | 0               |"
      ]
     },
     "metadata": {},
     "output_type": "display_data"
    },
    {
     "data": {
      "text/html": [
       "<pre>| 230       | 52.38s        | 6.38264e+06    | 0               |</pre>"
      ],
      "text/plain": [
       "| 230       | 52.38s        | 6.38264e+06    | 0               |"
      ]
     },
     "metadata": {},
     "output_type": "display_data"
    },
    {
     "data": {
      "text/html": [
       "<pre>| 240       | 54.56s        | 5.97054e+06    | 0               |</pre>"
      ],
      "text/plain": [
       "| 240       | 54.56s        | 5.97054e+06    | 0               |"
      ]
     },
     "metadata": {},
     "output_type": "display_data"
    },
    {
     "data": {
      "text/html": [
       "<pre>| 250       | 56.74s        | 6.07313e+06    | 0               |</pre>"
      ],
      "text/plain": [
       "| 250       | 56.74s        | 6.07313e+06    | 0               |"
      ]
     },
     "metadata": {},
     "output_type": "display_data"
    },
    {
     "data": {
      "text/html": [
       "<pre>| 260       | 58.91s        | 6.34546e+06    | 0               |</pre>"
      ],
      "text/plain": [
       "| 260       | 58.91s        | 6.34546e+06    | 0               |"
      ]
     },
     "metadata": {},
     "output_type": "display_data"
    },
    {
     "data": {
      "text/html": [
       "<pre>| 270       | 1m 1s         | 6.10347e+06    | 0               |</pre>"
      ],
      "text/plain": [
       "| 270       | 1m 1s         | 6.10347e+06    | 0               |"
      ]
     },
     "metadata": {},
     "output_type": "display_data"
    },
    {
     "data": {
      "text/html": [
       "<pre>| 280       | 1m 3s         | 6.21618e+06    | 0               |</pre>"
      ],
      "text/plain": [
       "| 280       | 1m 3s         | 6.21618e+06    | 0               |"
      ]
     },
     "metadata": {},
     "output_type": "display_data"
    },
    {
     "data": {
      "text/html": [
       "<pre>| 290       | 1m 5s         | 6.15375e+06    | 0               |</pre>"
      ],
      "text/plain": [
       "| 290       | 1m 5s         | 6.15375e+06    | 0               |"
      ]
     },
     "metadata": {},
     "output_type": "display_data"
    },
    {
     "data": {
      "text/html": [
       "<pre>| 300       | 1m 7s         | 6.11312e+06    | 0               |</pre>"
      ],
      "text/plain": [
       "| 300       | 1m 7s         | 6.11312e+06    | 0               |"
      ]
     },
     "metadata": {},
     "output_type": "display_data"
    },
    {
     "data": {
      "text/html": [
       "<pre>| 310       | 1m 9s         | 6.1713e+06     | 0               |</pre>"
      ],
      "text/plain": [
       "| 310       | 1m 9s         | 6.1713e+06     | 0               |"
      ]
     },
     "metadata": {},
     "output_type": "display_data"
    },
    {
     "data": {
      "text/html": [
       "<pre>| 320       | 1m 12s        | 6.2562e+06     | 0               |</pre>"
      ],
      "text/plain": [
       "| 320       | 1m 12s        | 6.2562e+06     | 0               |"
      ]
     },
     "metadata": {},
     "output_type": "display_data"
    },
    {
     "data": {
      "text/html": [
       "<pre>| 330       | 1m 14s        | 6.0868e+06     | 0               |</pre>"
      ],
      "text/plain": [
       "| 330       | 1m 14s        | 6.0868e+06     | 0               |"
      ]
     },
     "metadata": {},
     "output_type": "display_data"
    },
    {
     "data": {
      "text/html": [
       "<pre>| 340       | 1m 16s        | 6.08868e+06    | 0               |</pre>"
      ],
      "text/plain": [
       "| 340       | 1m 16s        | 6.08868e+06    | 0               |"
      ]
     },
     "metadata": {},
     "output_type": "display_data"
    },
    {
     "data": {
      "text/html": [
       "<pre>| 350       | 1m 18s        | 6.01985e+06    | 0               |</pre>"
      ],
      "text/plain": [
       "| 350       | 1m 18s        | 6.01985e+06    | 0               |"
      ]
     },
     "metadata": {},
     "output_type": "display_data"
    },
    {
     "data": {
      "text/html": [
       "<pre>| 360       | 1m 20s        | 6.1357e+06     | 0               |</pre>"
      ],
      "text/plain": [
       "| 360       | 1m 20s        | 6.1357e+06     | 0               |"
      ]
     },
     "metadata": {},
     "output_type": "display_data"
    },
    {
     "data": {
      "text/html": [
       "<pre>| 370       | 1m 22s        | 6.1291e+06     | 0               |</pre>"
      ],
      "text/plain": [
       "| 370       | 1m 22s        | 6.1291e+06     | 0               |"
      ]
     },
     "metadata": {},
     "output_type": "display_data"
    },
    {
     "data": {
      "text/html": [
       "<pre>| 380       | 1m 25s        | 6.07991e+06    | 0               |</pre>"
      ],
      "text/plain": [
       "| 380       | 1m 25s        | 6.07991e+06    | 0               |"
      ]
     },
     "metadata": {},
     "output_type": "display_data"
    },
    {
     "data": {
      "text/html": [
       "<pre>| 390       | 1m 27s        | 6.17352e+06    | 0               |</pre>"
      ],
      "text/plain": [
       "| 390       | 1m 27s        | 6.17352e+06    | 0               |"
      ]
     },
     "metadata": {},
     "output_type": "display_data"
    },
    {
     "data": {
      "text/html": [
       "<pre>| 400       | 1m 29s        | 6.22601e+06    | 0               |</pre>"
      ],
      "text/plain": [
       "| 400       | 1m 29s        | 6.22601e+06    | 0               |"
      ]
     },
     "metadata": {},
     "output_type": "display_data"
    },
    {
     "data": {
      "text/html": [
       "<pre>| 410       | 1m 31s        | 5.86271e+06    | 0               |</pre>"
      ],
      "text/plain": [
       "| 410       | 1m 31s        | 5.86271e+06    | 0               |"
      ]
     },
     "metadata": {},
     "output_type": "display_data"
    },
    {
     "data": {
      "text/html": [
       "<pre>| 420       | 1m 33s        | 5.96134e+06    | 0               |</pre>"
      ],
      "text/plain": [
       "| 420       | 1m 33s        | 5.96134e+06    | 0               |"
      ]
     },
     "metadata": {},
     "output_type": "display_data"
    },
    {
     "data": {
      "text/html": [
       "<pre>| 430       | 1m 36s        | 6.09494e+06    | 0               |</pre>"
      ],
      "text/plain": [
       "| 430       | 1m 36s        | 6.09494e+06    | 0               |"
      ]
     },
     "metadata": {},
     "output_type": "display_data"
    },
    {
     "data": {
      "text/html": [
       "<pre>| 440       | 1m 38s        | 6.2354e+06     | 0               |</pre>"
      ],
      "text/plain": [
       "| 440       | 1m 38s        | 6.2354e+06     | 0               |"
      ]
     },
     "metadata": {},
     "output_type": "display_data"
    },
    {
     "data": {
      "text/html": [
       "<pre>| 450       | 1m 40s        | 6.20238e+06    | 0               |</pre>"
      ],
      "text/plain": [
       "| 450       | 1m 40s        | 6.20238e+06    | 0               |"
      ]
     },
     "metadata": {},
     "output_type": "display_data"
    },
    {
     "data": {
      "text/html": [
       "<pre>| 460       | 1m 42s        | 6.10798e+06    | 0               |</pre>"
      ],
      "text/plain": [
       "| 460       | 1m 42s        | 6.10798e+06    | 0               |"
      ]
     },
     "metadata": {},
     "output_type": "display_data"
    },
    {
     "data": {
      "text/html": [
       "<pre>| 470       | 1m 45s        | 5.92695e+06    | 0               |</pre>"
      ],
      "text/plain": [
       "| 470       | 1m 45s        | 5.92695e+06    | 0               |"
      ]
     },
     "metadata": {},
     "output_type": "display_data"
    },
    {
     "data": {
      "text/html": [
       "<pre>| 480       | 1m 47s        | 6.12052e+06    | 0               |</pre>"
      ],
      "text/plain": [
       "| 480       | 1m 47s        | 6.12052e+06    | 0               |"
      ]
     },
     "metadata": {},
     "output_type": "display_data"
    },
    {
     "data": {
      "text/html": [
       "<pre>| 490       | 1m 49s        | 6.0465e+06     | 0               |</pre>"
      ],
      "text/plain": [
       "| 490       | 1m 49s        | 6.0465e+06     | 0               |"
      ]
     },
     "metadata": {},
     "output_type": "display_data"
    },
    {
     "data": {
      "text/html": [
       "<pre>| 500       | 1m 51s        | 6.2156e+06     | 0               |</pre>"
      ],
      "text/plain": [
       "| 500       | 1m 51s        | 6.2156e+06     | 0               |"
      ]
     },
     "metadata": {},
     "output_type": "display_data"
    },
    {
     "data": {
      "text/html": [
       "<pre>| 510       | 1m 53s        | 6.13204e+06    | 0               |</pre>"
      ],
      "text/plain": [
       "| 510       | 1m 53s        | 6.13204e+06    | 0               |"
      ]
     },
     "metadata": {},
     "output_type": "display_data"
    },
    {
     "data": {
      "text/html": [
       "<pre>| 520       | 1m 56s        | 6.08229e+06    | 0               |</pre>"
      ],
      "text/plain": [
       "| 520       | 1m 56s        | 6.08229e+06    | 0               |"
      ]
     },
     "metadata": {},
     "output_type": "display_data"
    },
    {
     "data": {
      "text/html": [
       "<pre>| 530       | 1m 58s        | 6.04699e+06    | 0               |</pre>"
      ],
      "text/plain": [
       "| 530       | 1m 58s        | 6.04699e+06    | 0               |"
      ]
     },
     "metadata": {},
     "output_type": "display_data"
    },
    {
     "data": {
      "text/html": [
       "<pre>| 540       | 2m 0s         | 6.25834e+06    | 0               |</pre>"
      ],
      "text/plain": [
       "| 540       | 2m 0s         | 6.25834e+06    | 0               |"
      ]
     },
     "metadata": {},
     "output_type": "display_data"
    },
    {
     "data": {
      "text/html": [
       "<pre>| 550       | 2m 2s         | 6.15409e+06    | 0               |</pre>"
      ],
      "text/plain": [
       "| 550       | 2m 2s         | 6.15409e+06    | 0               |"
      ]
     },
     "metadata": {},
     "output_type": "display_data"
    },
    {
     "data": {
      "text/html": [
       "<pre>| 560       | 2m 4s         | 5.94746e+06    | 0               |</pre>"
      ],
      "text/plain": [
       "| 560       | 2m 4s         | 5.94746e+06    | 0               |"
      ]
     },
     "metadata": {},
     "output_type": "display_data"
    },
    {
     "data": {
      "text/html": [
       "<pre>| 570       | 2m 7s         | 6.09411e+06    | 0               |</pre>"
      ],
      "text/plain": [
       "| 570       | 2m 7s         | 6.09411e+06    | 0               |"
      ]
     },
     "metadata": {},
     "output_type": "display_data"
    },
    {
     "data": {
      "text/html": [
       "<pre>| 580       | 2m 9s         | 6.17259e+06    | 0               |</pre>"
      ],
      "text/plain": [
       "| 580       | 2m 9s         | 6.17259e+06    | 0               |"
      ]
     },
     "metadata": {},
     "output_type": "display_data"
    },
    {
     "data": {
      "text/html": [
       "<pre>| 590       | 2m 12s        | 4.02288e+06    | 0               |</pre>"
      ],
      "text/plain": [
       "| 590       | 2m 12s        | 4.02288e+06    | 0               |"
      ]
     },
     "metadata": {},
     "output_type": "display_data"
    },
    {
     "data": {
      "text/html": [
       "<pre>| 600       | 2m 15s        | 5.6811e+06     | 0               |</pre>"
      ],
      "text/plain": [
       "| 600       | 2m 15s        | 5.6811e+06     | 0               |"
      ]
     },
     "metadata": {},
     "output_type": "display_data"
    },
    {
     "data": {
      "text/html": [
       "<pre>| 610       | 2m 18s        | 5.82656e+06    | 0               |</pre>"
      ],
      "text/plain": [
       "| 610       | 2m 18s        | 5.82656e+06    | 0               |"
      ]
     },
     "metadata": {},
     "output_type": "display_data"
    },
    {
     "data": {
      "text/html": [
       "<pre>| 620       | 2m 20s        | 6.17845e+06    | 0               |</pre>"
      ],
      "text/plain": [
       "| 620       | 2m 20s        | 6.17845e+06    | 0               |"
      ]
     },
     "metadata": {},
     "output_type": "display_data"
    },
    {
     "data": {
      "text/html": [
       "<pre>| 630       | 2m 22s        | 6.07236e+06    | 0               |</pre>"
      ],
      "text/plain": [
       "| 630       | 2m 22s        | 6.07236e+06    | 0               |"
      ]
     },
     "metadata": {},
     "output_type": "display_data"
    },
    {
     "data": {
      "text/html": [
       "<pre>| 640       | 2m 25s        | 5.26781e+06    | 0               |</pre>"
      ],
      "text/plain": [
       "| 640       | 2m 25s        | 5.26781e+06    | 0               |"
      ]
     },
     "metadata": {},
     "output_type": "display_data"
    },
    {
     "data": {
      "text/html": [
       "<pre>| 650       | 2m 28s        | 5.74742e+06    | 0               |</pre>"
      ],
      "text/plain": [
       "| 650       | 2m 28s        | 5.74742e+06    | 0               |"
      ]
     },
     "metadata": {},
     "output_type": "display_data"
    },
    {
     "data": {
      "text/html": [
       "<pre>| 660       | 2m 30s        | 3.52112e+06    | 0               |</pre>"
      ],
      "text/plain": [
       "| 660       | 2m 30s        | 3.52112e+06    | 0               |"
      ]
     },
     "metadata": {},
     "output_type": "display_data"
    },
    {
     "data": {
      "text/html": [
       "<pre>| 670       | 2m 34s        | 3.58859e+06    | 0               |</pre>"
      ],
      "text/plain": [
       "| 670       | 2m 34s        | 3.58859e+06    | 0               |"
      ]
     },
     "metadata": {},
     "output_type": "display_data"
    },
    {
     "data": {
      "text/html": [
       "<pre>| 680       | 2m 36s        | 6.18713e+06    | 0               |</pre>"
      ],
      "text/plain": [
       "| 680       | 2m 36s        | 6.18713e+06    | 0               |"
      ]
     },
     "metadata": {},
     "output_type": "display_data"
    },
    {
     "data": {
      "text/html": [
       "<pre>| 690       | 2m 38s        | 6.0357e+06     | 0               |</pre>"
      ],
      "text/plain": [
       "| 690       | 2m 38s        | 6.0357e+06     | 0               |"
      ]
     },
     "metadata": {},
     "output_type": "display_data"
    },
    {
     "data": {
      "text/html": [
       "<pre>| 700       | 2m 41s        | 6.01277e+06    | 0               |</pre>"
      ],
      "text/plain": [
       "| 700       | 2m 41s        | 6.01277e+06    | 0               |"
      ]
     },
     "metadata": {},
     "output_type": "display_data"
    },
    {
     "data": {
      "text/html": [
       "<pre>| 710       | 2m 43s        | 6.21124e+06    | 0               |</pre>"
      ],
      "text/plain": [
       "| 710       | 2m 43s        | 6.21124e+06    | 0               |"
      ]
     },
     "metadata": {},
     "output_type": "display_data"
    },
    {
     "data": {
      "text/html": [
       "<pre>| 720       | 2m 45s        | 6.02345e+06    | 0               |</pre>"
      ],
      "text/plain": [
       "| 720       | 2m 45s        | 6.02345e+06    | 0               |"
      ]
     },
     "metadata": {},
     "output_type": "display_data"
    },
    {
     "data": {
      "text/html": [
       "<pre>| 730       | 2m 47s        | 6.19449e+06    | 0               |</pre>"
      ],
      "text/plain": [
       "| 730       | 2m 47s        | 6.19449e+06    | 0               |"
      ]
     },
     "metadata": {},
     "output_type": "display_data"
    },
    {
     "data": {
      "text/html": [
       "<pre>| 740       | 2m 49s        | 5.93236e+06    | 0               |</pre>"
      ],
      "text/plain": [
       "| 740       | 2m 49s        | 5.93236e+06    | 0               |"
      ]
     },
     "metadata": {},
     "output_type": "display_data"
    },
    {
     "data": {
      "text/html": [
       "<pre>| 750       | 2m 52s        | 6.06147e+06    | 0               |</pre>"
      ],
      "text/plain": [
       "| 750       | 2m 52s        | 6.06147e+06    | 0               |"
      ]
     },
     "metadata": {},
     "output_type": "display_data"
    },
    {
     "data": {
      "text/html": [
       "<pre>| 760       | 2m 54s        | 6.10297e+06    | 0               |</pre>"
      ],
      "text/plain": [
       "| 760       | 2m 54s        | 6.10297e+06    | 0               |"
      ]
     },
     "metadata": {},
     "output_type": "display_data"
    },
    {
     "data": {
      "text/html": [
       "<pre>| 770       | 2m 56s        | 6.00594e+06    | 0               |</pre>"
      ],
      "text/plain": [
       "| 770       | 2m 56s        | 6.00594e+06    | 0               |"
      ]
     },
     "metadata": {},
     "output_type": "display_data"
    },
    {
     "data": {
      "text/html": [
       "<pre>| 780       | 2m 58s        | 6.22658e+06    | 0               |</pre>"
      ],
      "text/plain": [
       "| 780       | 2m 58s        | 6.22658e+06    | 0               |"
      ]
     },
     "metadata": {},
     "output_type": "display_data"
    },
    {
     "data": {
      "text/html": [
       "<pre>| 790       | 3m 1s         | 6.16275e+06    | 0               |</pre>"
      ],
      "text/plain": [
       "| 790       | 3m 1s         | 6.16275e+06    | 0               |"
      ]
     },
     "metadata": {},
     "output_type": "display_data"
    },
    {
     "data": {
      "text/html": [
       "<pre>| 800       | 3m 3s         | 5.99189e+06    | 0               |</pre>"
      ],
      "text/plain": [
       "| 800       | 3m 3s         | 5.99189e+06    | 0               |"
      ]
     },
     "metadata": {},
     "output_type": "display_data"
    },
    {
     "data": {
      "text/html": [
       "<pre>| 810       | 3m 5s         | 6.43664e+06    | 0               |</pre>"
      ],
      "text/plain": [
       "| 810       | 3m 5s         | 6.43664e+06    | 0               |"
      ]
     },
     "metadata": {},
     "output_type": "display_data"
    },
    {
     "data": {
      "text/html": [
       "<pre>| 820       | 3m 7s         | 6.21846e+06    | 0               |</pre>"
      ],
      "text/plain": [
       "| 820       | 3m 7s         | 6.21846e+06    | 0               |"
      ]
     },
     "metadata": {},
     "output_type": "display_data"
    },
    {
     "data": {
      "text/html": [
       "<pre>| 830       | 3m 10s        | 5.95164e+06    | 0               |</pre>"
      ],
      "text/plain": [
       "| 830       | 3m 10s        | 5.95164e+06    | 0               |"
      ]
     },
     "metadata": {},
     "output_type": "display_data"
    },
    {
     "data": {
      "text/html": [
       "<pre>| 840       | 3m 12s        | 6.11675e+06    | 0               |</pre>"
      ],
      "text/plain": [
       "| 840       | 3m 12s        | 6.11675e+06    | 0               |"
      ]
     },
     "metadata": {},
     "output_type": "display_data"
    },
    {
     "data": {
      "text/html": [
       "<pre>| 850       | 3m 14s        | 6.41214e+06    | 0               |</pre>"
      ],
      "text/plain": [
       "| 850       | 3m 14s        | 6.41214e+06    | 0               |"
      ]
     },
     "metadata": {},
     "output_type": "display_data"
    },
    {
     "data": {
      "text/html": [
       "<pre>| 860       | 3m 16s        | 6.24465e+06    | 0               |</pre>"
      ],
      "text/plain": [
       "| 860       | 3m 16s        | 6.24465e+06    | 0               |"
      ]
     },
     "metadata": {},
     "output_type": "display_data"
    },
    {
     "data": {
      "text/html": [
       "<pre>| 870       | 3m 18s        | 6.28755e+06    | 0               |</pre>"
      ],
      "text/plain": [
       "| 870       | 3m 18s        | 6.28755e+06    | 0               |"
      ]
     },
     "metadata": {},
     "output_type": "display_data"
    },
    {
     "data": {
      "text/html": [
       "<pre>| 880       | 3m 21s        | 6.36374e+06    | 0               |</pre>"
      ],
      "text/plain": [
       "| 880       | 3m 21s        | 6.36374e+06    | 0               |"
      ]
     },
     "metadata": {},
     "output_type": "display_data"
    },
    {
     "data": {
      "text/html": [
       "<pre>| 890       | 3m 23s        | 6.22294e+06    | 0               |</pre>"
      ],
      "text/plain": [
       "| 890       | 3m 23s        | 6.22294e+06    | 0               |"
      ]
     },
     "metadata": {},
     "output_type": "display_data"
    },
    {
     "data": {
      "text/html": [
       "<pre>| 900       | 3m 25s        | 6.17991e+06    | 0               |</pre>"
      ],
      "text/plain": [
       "| 900       | 3m 25s        | 6.17991e+06    | 0               |"
      ]
     },
     "metadata": {},
     "output_type": "display_data"
    },
    {
     "data": {
      "text/html": [
       "<pre>| 910       | 3m 27s        | 6.08317e+06    | 0               |</pre>"
      ],
      "text/plain": [
       "| 910       | 3m 27s        | 6.08317e+06    | 0               |"
      ]
     },
     "metadata": {},
     "output_type": "display_data"
    },
    {
     "data": {
      "text/html": [
       "<pre>| 920       | 3m 30s        | 5.98854e+06    | 0               |</pre>"
      ],
      "text/plain": [
       "| 920       | 3m 30s        | 5.98854e+06    | 0               |"
      ]
     },
     "metadata": {},
     "output_type": "display_data"
    },
    {
     "data": {
      "text/html": [
       "<pre>| 930       | 3m 32s        | 6.13705e+06    | 0               |</pre>"
      ],
      "text/plain": [
       "| 930       | 3m 32s        | 6.13705e+06    | 0               |"
      ]
     },
     "metadata": {},
     "output_type": "display_data"
    },
    {
     "data": {
      "text/html": [
       "<pre>| 940       | 3m 34s        | 6.14189e+06    | 0               |</pre>"
      ],
      "text/plain": [
       "| 940       | 3m 34s        | 6.14189e+06    | 0               |"
      ]
     },
     "metadata": {},
     "output_type": "display_data"
    },
    {
     "data": {
      "text/html": [
       "<pre>| 950       | 3m 36s        | 6.09073e+06    | 0               |</pre>"
      ],
      "text/plain": [
       "| 950       | 3m 36s        | 6.09073e+06    | 0               |"
      ]
     },
     "metadata": {},
     "output_type": "display_data"
    },
    {
     "data": {
      "text/html": [
       "<pre>| 960       | 3m 38s        | 6.0515e+06     | 0               |</pre>"
      ],
      "text/plain": [
       "| 960       | 3m 38s        | 6.0515e+06     | 0               |"
      ]
     },
     "metadata": {},
     "output_type": "display_data"
    },
    {
     "data": {
      "text/html": [
       "<pre>| 970       | 3m 41s        | 6.31329e+06    | 0               |</pre>"
      ],
      "text/plain": [
       "| 970       | 3m 41s        | 6.31329e+06    | 0               |"
      ]
     },
     "metadata": {},
     "output_type": "display_data"
    },
    {
     "data": {
      "text/html": [
       "<pre>| 980       | 3m 43s        | 5.0719e+06     | 0               |</pre>"
      ],
      "text/plain": [
       "| 980       | 3m 43s        | 5.0719e+06     | 0               |"
      ]
     },
     "metadata": {},
     "output_type": "display_data"
    },
    {
     "data": {
      "text/html": [
       "<pre>| 990       | 3m 45s        | 6.18059e+06    | 0               |</pre>"
      ],
      "text/plain": [
       "| 990       | 3m 45s        | 6.18059e+06    | 0               |"
      ]
     },
     "metadata": {},
     "output_type": "display_data"
    },
    {
     "data": {
      "text/html": [
       "<pre>| 1000      | 3m 47s        | 5.89283e+06    | 0               |</pre>"
      ],
      "text/plain": [
       "| 1000      | 3m 47s        | 5.89283e+06    | 0               |"
      ]
     },
     "metadata": {},
     "output_type": "display_data"
    },
    {
     "data": {
      "text/html": [
       "<pre>+-----------+---------------+----------------+-----------------+</pre>"
      ],
      "text/plain": [
       "+-----------+---------------+----------------+-----------------+"
      ]
     },
     "metadata": {},
     "output_type": "display_data"
    }
   ],
   "source": [
    "# Learn topic model\n",
    "Topic_Model = gl.topic_model.create(docs, num_topics=50, num_iterations=1000)"
   ]
  },
  {
   "cell_type": "code",
   "execution_count": 7,
   "metadata": {
    "collapsed": true
   },
   "outputs": [],
   "source": [
    "Topic_Model.save('Topic_Model01')"
   ]
  },
  {
   "cell_type": "code",
   "execution_count": null,
   "metadata": {
    "collapsed": true
   },
   "outputs": [],
   "source": []
  }
 ],
 "metadata": {
  "kernelspec": {
   "display_name": "Python 2",
   "language": "python",
   "name": "python2"
  },
  "language_info": {
   "codemirror_mode": {
    "name": "ipython",
    "version": 2
   },
   "file_extension": ".py",
   "mimetype": "text/x-python",
   "name": "python",
   "nbconvert_exporter": "python",
   "pygments_lexer": "ipython2",
   "version": "2.7.10"
  }
 },
 "nbformat": 4,
 "nbformat_minor": 0
}
